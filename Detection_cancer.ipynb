{
 "cells": [
  {
   "cell_type": "code",
   "execution_count": 12,
   "metadata": {
    "collapsed": true
   },
   "outputs": [
    {
     "ename": "ModuleNotFoundError",
     "evalue": "No module named 'tensorflow'",
     "traceback": [
      "\u001b[0;31m---------------------------------------------------------------------------\u001b[0m",
      "\u001b[0;31mModuleNotFoundError\u001b[0m                       Traceback (most recent call last)",
      "\u001b[0;32m<ipython-input-12-f92162dec7a6>\u001b[0m in \u001b[0;36m<module>\u001b[0;34m\u001b[0m\n\u001b[1;32m      3\u001b[0m \u001b[0;32mimport\u001b[0m \u001b[0mmatplotlib\u001b[0m\u001b[0;34m.\u001b[0m\u001b[0mpylab\u001b[0m \u001b[0;32mas\u001b[0m \u001b[0mplt\u001b[0m\u001b[0;34m\u001b[0m\u001b[0;34m\u001b[0m\u001b[0m\n\u001b[1;32m      4\u001b[0m \u001b[0;34m\u001b[0m\u001b[0m\n\u001b[0;32m----> 5\u001b[0;31m \u001b[0;32mimport\u001b[0m \u001b[0mtensorflow\u001b[0m \u001b[0;32mas\u001b[0m \u001b[0mtf\u001b[0m\u001b[0;34m\u001b[0m\u001b[0;34m\u001b[0m\u001b[0m\n\u001b[0m\u001b[1;32m      6\u001b[0m \u001b[0;32mimport\u001b[0m \u001b[0mtensorflow_hub\u001b[0m \u001b[0;32mas\u001b[0m \u001b[0mhub\u001b[0m\u001b[0;34m\u001b[0m\u001b[0;34m\u001b[0m\u001b[0m\n\u001b[1;32m      7\u001b[0m \u001b[0;34m\u001b[0m\u001b[0m\n",
      "\u001b[0;31mModuleNotFoundError\u001b[0m: No module named 'tensorflow'"
     ],
     "output_type": "error"
    }
   ],
   "source": [
    "from __future__ import absolute_import, division, print_function\n",
    "\n",
    "import matplotlib.pylab as plt\n",
    "\n",
    "import tensorflow as tf\n",
    "import tensorflow_hub as hub\n",
    "\n",
    "from tensorflow.keras import layers\n",
    "\n",
    "tf.VERSION"
   ]
  },
  {
   "cell_type": "code",
   "execution_count": 9,
   "metadata": {},
   "outputs": [
    {
     "name": "stdout",
     "output_type": "stream",
     "text": [
      "\nPlease wait a moment while I gather a list of all available modules...\n\n"
     ]
    },
    {
     "name": "stderr",
     "output_type": "stream",
     "text": [
      "/anaconda3/lib/python3.7/site-packages/IPython/kernel/__init__.py:13: ShimWarning: The `IPython.kernel` package has been deprecated since IPython 4.0.You should import from ipykernel or jupyter_client instead.\n  \"You should import from ipykernel or jupyter_client instead.\", ShimWarning)\n"
     ]
    },
    {
     "name": "stderr",
     "output_type": "stream",
     "text": [
      "WARNING: AstropyDeprecationWarning: astropy.utils.compat.futures is now deprecated - use concurrent.futures instead [astropy.utils.compat.futures]\n"
     ]
    },
    {
     "name": "stderr",
     "output_type": "stream",
     "text": [
      "/anaconda3/lib/python3.7/site-packages/odo/backends/pandas.py:102: FutureWarning: pandas.tslib is deprecated and will be removed in a future version.\nYou can access NaTType as type(pandas.NaT)\n  @convert.register((pd.Timestamp, pd.Timedelta), (pd.tslib.NaTType, type(None)))\n"
     ]
    },
    {
     "name": "stderr",
     "output_type": "stream",
     "text": [
      "/anaconda3/lib/python3.7/site-packages/nltk/twitter/__init__.py:22: UserWarning: The twython library has not been installed. Some functionality from the twitter package will not be available.\n  \"The twython library has not been installed. \"\n"
     ]
    },
    {
     "name": "stdout",
     "output_type": "stream",
     "text": [
      "DEBUG:pip._internal.vcs:Registered VCS backend: git\n"
     ]
    },
    {
     "name": "stdout",
     "output_type": "stream",
     "text": [
      "DEBUG:pip._internal.vcs:Registered VCS backend: hg\n"
     ]
    },
    {
     "name": "stdout",
     "output_type": "stream",
     "text": [
      "DEBUG:pip._internal.vcs:Registered VCS backend: svn\n"
     ]
    },
    {
     "name": "stdout",
     "output_type": "stream",
     "text": [
      "DEBUG:pip._internal.vcs:Registered VCS backend: bzr\n"
     ]
    },
    {
     "name": "stderr",
     "output_type": "stream",
     "text": [
      "/anaconda3/lib/python3.7/site-packages/skimage/novice/__init__.py:103: UserWarning: The `skimage.novice` module was deprecated in version 0.14. It will be removed in 0.16.\n  warnings.warn(\"The `skimage.novice` module was deprecated in version 0.14. \"\n/anaconda3/lib/python3.7/site-packages/skimage/viewer/utils/core.py:10: UserWarning: Recommended matplotlib backend is `Agg` for full skimage.viewer functionality.\n  warn(\"Recommended matplotlib backend is `Agg` for full \"\n"
     ]
    },
    {
     "name": "stderr",
     "output_type": "stream",
     "text": [
      "/anaconda3/lib/python3.7/site-packages/sphinx/websupport/__init__.py:25: RemovedInSphinx20Warning: sphinx.websupport module is now provided as sphinxcontrib-websupport. sphinx.websupport will be removed at Sphinx-2.0. Please use the package instead.\n  RemovedInSphinx20Warning)\n"
     ]
    },
    {
     "name": "stderr",
     "output_type": "stream",
     "text": [
      "/anaconda3/lib/python3.7/site-packages/qtawesome/iconic_font.py:276: UserWarning: You need to have a running QApplication to use QtAwesome!\n  warnings.warn(\"You need to have a running \"\n"
     ]
    },
    {
     "name": "stdout",
     "output_type": "stream",
     "text": [
      "/anaconda3/lib/python3.7/site-packages/zmq/backend/cffi/__pycache__/_cffi_ext.c:243:3: warning: code will never be executed [-Wunreachable-code]\n  _cffi_check__zmq_msg_t(0);\n  ^~~~~~~~~~~~~~~~~~~~~~\n/anaconda3/lib/python3.7/site-packages/zmq/backend/cffi/__pycache__/_cffi_ext.c:276:3: warning: code will never be executed [-Wunreachable-code]\n  _cffi_check__zmq_pollitem_t(0);\n  ^~~~~~~~~~~~~~~~~~~~~~~~~~~\n2 warnings generated.\n"
     ]
    },
    {
     "name": "stdout",
     "output_type": "stream",
     "text": [
      "Crypto              brain_fstrings      jdcal               reprlib\nCython              brain_functools     jedi                requests\nIPython             brain_gi            jinja2              resource\nOpenSSL             brain_hashlib       json                rlcompleter\nPIL                 brain_io            jsonschema          rmagic\nPyQt5               brain_mechanize     jupyter             rope\n__future__          brain_multiprocessing jupyter_client      ruamel_yaml\n_abc                brain_namedtuple_enum jupyter_console     runpy\n_ast                brain_nose          jupyter_core        sched\n_asyncio            brain_numpy         jupyterlab          scipy\n_bisect             brain_pkg_resources jupyterlab_server   scripts\n_blake2             brain_pytest        keyring             seaborn\n_bootlocale         brain_qt            keyword             secrets\n_bz2                brain_random        kiwisolver          select\n_cffi_backend       brain_re            lazy_object_proxy   selectors\n_codecs             brain_six           lib2to3             send2trash\n_codecs_cn          brain_ssl           libarchive          setuptools\n_codecs_hk          brain_subprocess    libfuturize         shelve\n_codecs_iso2022     brain_threading     libpasteurize       shlex\n_codecs_jp          brain_typing        lief                shutil\n_codecs_kr          brain_uuid          linecache           signal\n_codecs_tw          bs4                 llvmlite            simplegeneric\n_collections        builtins            locale              singledispatch\n_collections_abc    bz2                 locket              singledispatch_helpers\n_compat_pickle      cProfile            logging             sip\n_compression        calendar            lxml                sipconfig\n_contextvars        certifi             lzma                sipdistutils\n_crypt              cffi                macpath             site\n_csv                cgi                 mactypes            six\n_ctypes             cgitb               mailbox             skimage\n_ctypes_test        chardet             mailcap             sklearn\n_curses             chunk               markupsafe          smtpd\n_curses_panel       click               marshal             smtplib\n_datetime           cloudpickle         math                sndhdr\n_dbm                clyent              matplotlib          snowballstemmer\n_decimal            cmath               mccabe              socket\n_dummy_thread       cmd                 mimetypes           socketserver\n_elementtree        code                mistune             socks\n_functools          codecs              mkl                 sockshandler\n_hashlib            codeop              mkl_fft             sortedcollections\n_heapq              collections         mkl_random          sortedcontainers\n_imp                colorama            mmap                sphinx\n_io                 colorsys            modulefinder        sphinxcontrib\n_json               compileall          more_itertools      spyder\n_locale             concurrent          mpmath              spyder_breakpoints\n_lsprof             conda               msgpack             spyder_io_dcm\n_lzma               conda_build         multipledispatch    spyder_io_hdf5\n_markupbase         conda_env           multiprocessing     spyder_kernels\n_md5                conda_verify        navigator_updater   spyder_profiler\n_multibytecodec     configparser        nbconvert           spyder_pylint\n_multiprocessing    contextlib          nbformat            sqlalchemy\n_opcode             contextlib2         netrc               sqlite3\n_operator           contextvars         networkx            sre_compile\n_osx_support        copy                nis                 sre_constants\n_pickle             copyreg             nltk                sre_parse\n_posixsubprocess    crypt               nntplib             ssl\n_py_abc             cryptography        nose                stat\n_pydecimal          csv                 notebook            statistics\n_pyio               ctypes              ntpath              statsmodels\n_pylief             curl                nturl2path          storemagic\n_pytest             curses              numba               string\n_queue              cycler              numbers             stringprep\n_random             cython              numexpr             struct\n_scproxy            cythonmagic         numpy               subprocess\n_sha1               cytoolz             numpydoc            sunau\n_sha256             dask                odo                 symbol\n_sha3               dataclasses         olefile             sympy\n_sha512             datashape           opcode              sympyprinting\n_signal             datetime            openpyxl            symtable\n_sitebuiltins       dateutil            operator            sys\n_socket             dbm                 optparse            sysconfig\n_sqlite3            decimal             os                  syslog\n_sre                decorator           osax                tables\n_ssl                defusedxml          packaging           tabnanny\n_stat               difflib             pandas              tarfile\n_string             dis                 pandocfilters       tblib\n_strptime           distributed         parser              telnetlib\n_struct             distutils           parso               tempfile\n_symtable           doctest             partd               terminado\n_sysconfigdata_i686_conda_cos6_linux_gnu docutils            past                termios\n_sysconfigdata_m_darwin_darwin dummy_threading     path                test\n_sysconfigdata_powerpc64le_conda_cos7_linux_gnu easy_install        pathlib             test_path\n_sysconfigdata_x86_64_apple_darwin13_4_0 email               pathlib2            test_pycosat\n_sysconfigdata_x86_64_conda_cos6_linux_gnu encodings           patsy               testpath\n_testbuffer         ensurepip           pdb                 tests\n_testcapi           entrypoints         pep8                textwrap\n_testimportmultiple enum                pexpect             this\n_testmultiphase     errno               pickle              threading\n_thread             et_xmlfile          pickleshare         time\n_threading_local    fastcache           pickletools         timeit\n_tkinter            faulthandler        pip                 tkinter\n_tracemalloc        fcntl               pipes               tlz\n_uuid               filecmp             pkg_resources       token\n_warnings           fileinput           pkginfo             tokenize\n_weakref            filelock            pkgutil             toolz\n_weakrefset         flask               platform            tornado\n_xxtestfuzz         flask_cors          plistlib            tqdm\n_yaml               fnmatch             pluggy              trace\nabc                 formatter           ply                 traceback\naem                 fractions           poplib              tracemalloc\naifc                ftplib              posix               traitlets\nalabaster           functools           posixpath           tty\nanaconda_navigator  future              pprint              turtle\nanaconda_project    gc                  profile             turtledemo\nantigravity         genericpath         prometheus_client   types\nappnope             getopt              prompt_toolkit      typing\nappscript           getpass             pstats              unicodecsv\nargparse            gettext             psutil              unicodedata\narray               gevent              pty                 unittest\nasn1crypto          glob                ptyprocess          urllib\nast                 glob2               pwd                 urllib3\nastroid             gmpy2               py                  uu\nastropy             greenlet            py_compile          uuid\nasynchat            grp                 pyclbr              venv\nasyncio             gzip                pycodestyle         warnings\nasyncore            h5py                pycosat             wave\natexit              hashlib             pycparser           wcwidth\natomicwrites        heapdict            pycurl              weakref\nattr                heapq               pydoc               webbrowser\naudioop             hmac                pydoc_data          webencodings\nautoreload          html                pyexpat             werkzeug\nbabel               html5lib            pyflakes            wheel\nbackcall            http                pygments            widgetsnbextension\nbackports           idlelib             pylab               wrapt\nbase64              idna                pylint              wsgiref\nbdb                 imageio             pyodbc              wurlitzer\nbinascii            imagesize           pyparsing           xdrlib\nbinhex              imaplib             pytest              xlrd\nbinstar_client      imghdr              pytest_arraydiff    xlsxwriter\nbisect              imp                 pytest_doctestplus  xlwings\nbitarray            importlib           pytest_openfiles    xlwt\nbkcharts            importlib_metadata  pytest_remotedata   xml\nblaze               inspect             pytz                xmlrpc\nbleach              io                  pywt                xxlimited\nbokeh               ipaddress           pyximport           xxsubtype\nboto                ipykernel           qtawesome           yaml\nbottleneck          ipykernel_launcher  qtconsole           zict\nbrain_argparse      ipython_genutils    qtpy                zipapp\nbrain_attrs         ipywidgets          queue               zipfile\nbrain_builtin_inference isort               quopri              zipimport\nbrain_collections   isympy              random              zlib\nbrain_curses        itertools           re                  zmq\nbrain_dateutil      itsdangerous        readline            \n\nEnter any module name to get more help.  Or, type \"modules spam\" to search\nfor modules whose name or summary contain the string \"spam\".\n\n"
     ]
    },
    {
     "name": "stderr",
     "output_type": "stream",
     "text": [
      "/anaconda3/lib/python3.7/pkgutil.py:107: VisibleDeprecationWarning: zmq.eventloop.minitornado is deprecated in pyzmq 14.0 and will be removed.\n    Install tornado itself to use zmq with the tornado IOLoop.\n    \n  yield from walk_packages(path, info.name+'.', onerror)\n"
     ]
    }
   ],
   "source": [
    "help(\"modules\")"
   ]
  },
  {
   "cell_type": "code",
   "execution_count": 13,
   "metadata": {},
   "outputs": [
    {
     "name": "stdout",
     "output_type": "stream",
     "text": [
      "\nHere is a list of modules whose name or summary contains 'tensorflow'.\nIf there are any, enter a module name to get more help.\n\n"
     ]
    },
    {
     "name": "stdout",
     "output_type": "stream",
     "text": [
      "\n"
     ]
    }
   ],
   "source": [
    "help(\"modules tensorflow\")\n"
   ]
  },
  {
   "cell_type": "code",
   "execution_count": null,
   "metadata": {},
   "outputs": [
    {
     "data": {
      "text/plain": [
       "'/anaconda3/bin/python'"
      ]
     },
     "execution_count": 16,
     "metadata": {},
     "output_type": "execute_result"
    }
   ],
   "source": [
    "import sys\n",
    "sys.executable"
   ]
  },
  {
   "cell_type": "code",
   "execution_count": null,
   "metadata": {},
   "outputs": [],
   "source": []
  }
 ],
 "metadata": {
  "kernelspec": {
   "display_name": "Python 2",
   "language": "python",
   "name": "python2"
  },
  "language_info": {
   "codemirror_mode": {
    "name": "ipython",
    "version": 2
   },
   "file_extension": ".py",
   "mimetype": "text/x-python",
   "name": "python",
   "nbconvert_exporter": "python",
   "pygments_lexer": "ipython2",
   "version": "2.7.6"
  }
 },
 "nbformat": 4,
 "nbformat_minor": 0
}
